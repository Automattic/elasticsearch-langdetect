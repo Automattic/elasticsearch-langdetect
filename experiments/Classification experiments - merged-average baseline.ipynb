{
 "cells": [
  {
   "cell_type": "markdown",
   "metadata": {},
   "source": [
    "# Experiments to improve classification accuracy &ndash; merged-average baseline\n",
    "\n",
    "This notebook contains the experiments to improve classification accuracy that use the merged-average profile with all languages as a baseline, ignoring results on other profiles."
   ]
  },
  {
   "cell_type": "code",
   "execution_count": 1,
   "metadata": {
    "collapsed": true
   },
   "outputs": [],
   "source": [
    "from IPython.display import display\n",
    "import pandas as pd\n",
    "import pylab\n",
    "import seaborn as sns\n",
    "\n",
    "%matplotlib inline\n",
    "%config InlineBackend.figure_format = 'retina' \n",
    "\n",
    "pylab.rcParams['figure.figsize'] = (10, 5)"
   ]
  },
  {
   "cell_type": "markdown",
   "metadata": {},
   "source": [
    "## Looking at the new baseline results"
   ]
  },
  {
   "cell_type": "code",
   "execution_count": 2,
   "metadata": {
    "collapsed": true
   },
   "outputs": [],
   "source": [
    "LANGUAGE_CODE_TO_NAME = {\n",
    "    'af': 'Afrikaans',\n",
    "    'ar': 'Arabic',\n",
    "    'bg': 'Bulgarian',\n",
    "    'bn': 'Bengali',\n",
    "    'ca': 'Catalan',\n",
    "    'cs': 'Czech',\n",
    "    'da': 'Danish',\n",
    "    'de': 'German',\n",
    "    'el': 'Greek',\n",
    "    'en': 'English',\n",
    "    'es': 'Spanish',\n",
    "    'et': 'Estonian',\n",
    "    'fa': 'Persian',\n",
    "    'fi': 'Finnish',\n",
    "    'fr': 'French',\n",
    "    'gu': 'Gujarati',\n",
    "    'he': 'Hebrew',\n",
    "    'hi': 'Hindi',\n",
    "    'hr': 'Croatian',\n",
    "    'hu': 'Hungarian',\n",
    "    'id': 'Indonesian',\n",
    "    'it': 'Italian',\n",
    "    'ja': 'Japanese',\n",
    "    'kn': 'Kannada',\n",
    "    'ko': 'Korean',\n",
    "    'lt': 'Lithuanian',\n",
    "    'lv': 'Latvian',\n",
    "    'mk': 'Macedonian',\n",
    "    'ml': 'Malayalam',\n",
    "    'mr': 'Marathi',\n",
    "    'ne': 'Nepali',\n",
    "    'nl': 'Dutch',\n",
    "    'no': 'Norwegian',\n",
    "    'pa': 'Punjabi',\n",
    "    'pl': 'Polish',\n",
    "    'pt': 'Portuguese',\n",
    "    'ro': 'Romanian',\n",
    "    'ru': 'Russian',\n",
    "    'si': 'Sinhalese',\n",
    "    'sk': 'Slovak',\n",
    "    'sl': 'Slovene',\n",
    "    'so': 'Somali',\n",
    "    'sq': 'Albanian',\n",
    "    'sv': 'Swedish',\n",
    "    'sw': 'Swahili',\n",
    "    'ta': 'Tamil',\n",
    "    'te': 'Telugu',\n",
    "    'th': 'Thai',\n",
    "    'tl': 'Tagalog',\n",
    "    'tr': 'Turkish',\n",
    "    'uk': 'Ukrainian',\n",
    "    'ur': 'Urdu',\n",
    "    'vi': 'Vietnamese',\n",
    "    'zh-cn': 'Simplified Chinese',\n",
    "    'zh-tw': 'Traditional Chinese'\n",
    "}\n",
    "\n",
    "RESULT_PARAM_COLS = ['datasetName', 'substringLength', 'sampleSize', 'profileParam', 'useAllLanguages']"
   ]
  },
  {
   "cell_type": "code",
   "execution_count": 6,
   "metadata": {
    "collapsed": false
   },
   "outputs": [
    {
     "data": {
      "text/html": [
       "<div>\n",
       "<table border=\"1\" class=\"dataframe\">\n",
       "  <thead>\n",
       "    <tr style=\"text-align: right;\">\n",
       "      <th></th>\n",
       "      <th>datasetName</th>\n",
       "      <th>substringLength</th>\n",
       "      <th>sampleSize</th>\n",
       "      <th>profileParam</th>\n",
       "      <th>useAllLanguages</th>\n",
       "      <th>af</th>\n",
       "      <th>ar</th>\n",
       "      <th>bg</th>\n",
       "      <th>bn</th>\n",
       "      <th>ca</th>\n",
       "    </tr>\n",
       "  </thead>\n",
       "  <tbody>\n",
       "    <tr>\n",
       "      <th>3</th>\n",
       "      <td>udhr</td>\n",
       "      <td>0</td>\n",
       "      <td>1</td>\n",
       "      <td>merged-average</td>\n",
       "      <td>True</td>\n",
       "      <td>1</td>\n",
       "      <td>1</td>\n",
       "      <td>1</td>\n",
       "      <td>1</td>\n",
       "      <td>1</td>\n",
       "    </tr>\n",
       "    <tr>\n",
       "      <th>9</th>\n",
       "      <td>udhr</td>\n",
       "      <td>5</td>\n",
       "      <td>100</td>\n",
       "      <td>merged-average</td>\n",
       "      <td>True</td>\n",
       "      <td>0.35</td>\n",
       "      <td>0.87</td>\n",
       "      <td>0.39</td>\n",
       "      <td>1</td>\n",
       "      <td>0.15</td>\n",
       "    </tr>\n",
       "    <tr>\n",
       "      <th>15</th>\n",
       "      <td>udhr</td>\n",
       "      <td>10</td>\n",
       "      <td>100</td>\n",
       "      <td>merged-average</td>\n",
       "      <td>True</td>\n",
       "      <td>0.6</td>\n",
       "      <td>0.98</td>\n",
       "      <td>0.58</td>\n",
       "      <td>1</td>\n",
       "      <td>0.45</td>\n",
       "    </tr>\n",
       "    <tr>\n",
       "      <th>21</th>\n",
       "      <td>udhr</td>\n",
       "      <td>20</td>\n",
       "      <td>100</td>\n",
       "      <td>merged-average</td>\n",
       "      <td>True</td>\n",
       "      <td>0.77</td>\n",
       "      <td>0.99</td>\n",
       "      <td>0.84</td>\n",
       "      <td>1</td>\n",
       "      <td>0.73</td>\n",
       "    </tr>\n",
       "    <tr>\n",
       "      <th>27</th>\n",
       "      <td>udhr</td>\n",
       "      <td>50</td>\n",
       "      <td>100</td>\n",
       "      <td>merged-average</td>\n",
       "      <td>True</td>\n",
       "      <td>0.97</td>\n",
       "      <td>1</td>\n",
       "      <td>0.92</td>\n",
       "      <td>1</td>\n",
       "      <td>0.97</td>\n",
       "    </tr>\n",
       "  </tbody>\n",
       "</table>\n",
       "</div>"
      ],
      "text/plain": [
       "   datasetName substringLength sampleSize    profileParam useAllLanguages  \\\n",
       "3         udhr               0          1  merged-average            True   \n",
       "9         udhr               5        100  merged-average            True   \n",
       "15        udhr              10        100  merged-average            True   \n",
       "21        udhr              20        100  merged-average            True   \n",
       "27        udhr              50        100  merged-average            True   \n",
       "\n",
       "      af    ar    bg bn    ca  \n",
       "3      1     1     1  1     1  \n",
       "9   0.35  0.87  0.39  1  0.15  \n",
       "15   0.6  0.98  0.58  1  0.45  \n",
       "21  0.77  0.99  0.84  1  0.73  \n",
       "27  0.97     1  0.92  1  0.97  "
      ]
     },
     "execution_count": 6,
     "metadata": {},
     "output_type": "execute_result"
    }
   ],
   "source": [
    "def read_results(path):\n",
    "    \"\"\"\n",
    "    Read results from the given path, dropping all results except for merged-average on all languages.\n",
    "    \"\"\"\n",
    "    results = pd.read_csv(path)\n",
    "    return results[(results['profileParam'] == 'merged-average') & results['useAllLanguages']]\n",
    "\n",
    "baseline_results = read_results(\n",
    "    '../src/test/resources/org/xbib/elasticsearch/index/mapper/langdetect/accuracies.csv'\n",
    ")\n",
    "baseline_results.T.head(10).T.head()"
   ]
  },
  {
   "cell_type": "markdown",
   "metadata": {},
   "source": [
    "## Experiment: one-skip-bigrams\n",
    "\n",
    "What happens when we add one-skip bigrams extracted from the profile trigrams (e.g., \"the\" -> \"te\")"
   ]
  },
  {
   "cell_type": "code",
   "execution_count": 7,
   "metadata": {
    "collapsed": false
   },
   "outputs": [
    {
     "name": "stdout",
     "output_type": "stream",
     "text": [
      ":compileJava\n",
      ":processResources\n",
      ":classes\n",
      ":compileTestJava\n",
      ":processTestResources\n",
      ":testClasses\n",
      ":test\n",
      "\n",
      "BUILD SUCCESSFUL\n",
      "\n",
      "Total time: 1 mins 27.439 secs\n",
      "\n",
      "This build could be faster, please consider using the Gradle Daemon: https://docs.gradle.org/2.10/userguide/gradle_daemon.html\n"
     ]
    },
    {
     "name": "stderr",
     "output_type": "stream",
     "text": [
      "warning: [options] bootstrap class path not set in conjunction with -source 1.7\n",
      "1 warning\n",
      "warning: [options] bootstrap class path not set in conjunction with -source 1.7\n"
     ]
    }
   ],
   "source": [
    "%%bash\n",
    "\n",
    "cd ..\n",
    "gradle test --rerun-tasks \\\n",
    "    -Dexperiment.name=one-skip-bigrams \\\n",
    "    -Dtest.single=DetectLanguageAccuracyTest \\\n",
    "    -Dpath.accuracies.out=experiments/results/one-skip-bigrams.csv"
   ]
  },
  {
   "cell_type": "code",
   "execution_count": null,
   "metadata": {
    "collapsed": true
   },
   "outputs": [],
   "source": []
  },
  {
   "cell_type": "code",
   "execution_count": null,
   "metadata": {
    "collapsed": true
   },
   "outputs": [],
   "source": [
    "def extract_accuracies(results):\n",
    "    accuracies = results.drop(RESULT_PARAM_COLS, axis=1)\n",
    "    accuracies.rename_axis({k: '{} ({})'.format(v, k) for k, v in LANGUAGE_CODE_TO_NAME.items()},\n",
    "                           axis=1, inplace=True)\n",
    "    return accuracies\n",
    "\n",
    "def plot_accuracy_deltas_by_language(baseline_results, experiment_results, experiment_name='N/A',\n",
    "                                     order='min', baseline_desc=None, quiet=False):\n",
    "    baseline_accuracies = extract_accuracies(baseline_results)\n",
    "    deltas = (extract_accuracies(experiment_results) - baseline_accuracies).dropna(axis=1, how='all')\n",
    "    delta_counts = pd.Series({k: v.sum().sum() for k, v in dict(positive=deltas > 0,\n",
    "                                                                negative=deltas < 0,\n",
    "                                                                zero=deltas == 0).items()})\n",
    "    delta_means = deltas.mean()\n",
    "    delta_mean_counts = pd.Series(dict(positive=(delta_means > 0).sum(),\n",
    "                                       negative=(delta_means < 0).sum(),\n",
    "                                       zero=(delta_means == 0).sum()))\n",
    "    count_summary_df = pd.DataFrame({\n",
    "        'Delta count': delta_counts,\n",
    "        'Delta percent': delta_counts / delta_counts.sum(),\n",
    "        'Language mean delta count': delta_mean_counts,\n",
    "        'Language mean delta percent': delta_mean_counts / delta_mean_counts.sum()\n",
    "    })\n",
    "    mean_delta = deltas.mean().mean()\n",
    "    if quiet:\n",
    "        return count_summary_df, mean_delta\n",
    "    print('Result summary (positive is better than the baseline)\\n')\n",
    "    print('Number of results: {}'.format(delta_counts.sum()))\n",
    "    print('Number of languages: {}'.format(len(deltas.columns)))\n",
    "    print('Mean delta: {:4f}'.format(mean_delta))\n",
    "    display(count_summary_df)\n",
    "\n",
    "    if order == 'width':\n",
    "        order_series = deltas.max() - deltas.min()\n",
    "    else:\n",
    "        order_series = getattr(deltas, order)()\n",
    "    ax = deltas[order_series.sort_values(ascending=False).index].plot(\n",
    "        kind='box', vert=False, figsize=(10, 10), whis='range'\n",
    "    )\n",
    "    positive_limit = deltas.abs().max().max() + 0.01\n",
    "    # Keep the x-axis symmetrical\n",
    "    ax.set_xlim((-positive_limit, positive_limit))\n",
    "    ax.set_xlabel('Accuracy delta')\n",
    "    ax.set_ylabel('Language')\n",
    "    ax.set_title('{} accuracy deltas to baseline{} by language'.format(\n",
    "        experiment_name,\n",
    "        ' ({})'.format(baseline_desc) if baseline_desc else ''\n",
    "    ))\n",
    "\n",
    "plot_accuracy_deltas_by_language(baseline_results,\n",
    "                                 no_ngram_subsampling_results,\n",
    "                                 '[Experiment] No n-gram subsampling:')"
   ]
  }
 ],
 "metadata": {
  "kernelspec": {
   "display_name": "Python 3",
   "language": "python",
   "name": "python3"
  },
  "language_info": {
   "codemirror_mode": {
    "name": "ipython",
    "version": 3
   },
   "file_extension": ".py",
   "mimetype": "text/x-python",
   "name": "python",
   "nbconvert_exporter": "python",
   "pygments_lexer": "ipython3",
   "version": "3.5.2"
  }
 },
 "nbformat": 4,
 "nbformat_minor": 2
}
